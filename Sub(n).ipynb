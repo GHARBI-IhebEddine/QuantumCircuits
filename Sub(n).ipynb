{
 "cells": [
  {
   "cell_type": "markdown",
   "id": "51c0d591-486d-45d8-b7ad-ebf6475f46a2",
   "metadata": {},
   "source": [
    "# Import Libraries\n",
    "\n",
    "We begin by importing the necessary libraries that will be used throughout the notebook."
   ]
  },
  {
   "cell_type": "code",
   "execution_count": 1,
   "id": "00c73d9e-cbbe-41a4-8c3a-db0a5888d035",
   "metadata": {},
   "outputs": [],
   "source": [
    "# Importing standard Qiskit libraries\n",
    "from qiskit import QuantumCircuit, QuantumRegister, ClassicalRegister, transpile, IBMQ, execute, Aer, transpile\n",
    "from qiskit.tools.jupyter import *\n",
    "from qiskit.visualization import *\n",
    "from ibm_quantum_widgets import *\n",
    "from qiskit_ibm_runtime import QiskitRuntimeService, Sampler, Estimator, Session, Options"
   ]
  },
  {
   "cell_type": "markdown",
   "id": "3f247624-e04b-4504-9142-0075cae7f371",
   "metadata": {},
   "source": [
    "# Create circuit blocks\n",
    "we'll construct essential circuit blocks for quantum computations.\n",
    "- qcc -> quantum carry circuit\n",
    "- qcci -> quantum carry inverted circuit\n",
    "- qcs -> quantum sum circuit\n",
    "- qcsi -> inverted sum circuit"
   ]
  },
  {
   "cell_type": "code",
   "execution_count": 2,
   "id": "d2cc5de3-922f-42ad-9daf-30e63b15caa9",
   "metadata": {
    "tags": []
   },
   "outputs": [],
   "source": [
    "qrc = QuantumRegister(4, 'q')\n",
    "qcc = QuantumCircuit(qrc)\n",
    "\n",
    "qrci = QuantumRegister(4, 'q')\n",
    "qcci = QuantumCircuit(qrci)\n",
    "\n",
    "qrs = QuantumRegister(3, 'q')\n",
    "qcs = QuantumCircuit(qrs)\n",
    "\n",
    "qrsi = QuantumRegister(3, 'q')\n",
    "qcsi = QuantumCircuit(qrsi)\n",
    "\n",
    "qcc.ccx(qrc[1], qrc[2], qrc[3])\n",
    "qcc.cx (qrc[1], qrc[2])\n",
    "qcc.ccx(qrc[0], qrc[2], qrc[3])\n",
    "\n",
    "CB = qcc.to_instruction()\n",
    "\n",
    "qcs.cx (qrs[0], qrs[2])\n",
    "qcs.cx (qrs[1], qrs[2])\n",
    "\n",
    "SB = qcs.to_instruction()\n",
    "\n",
    "qcci.ccx(qrci[0], qrci[2], qrci[3])\n",
    "qcci.cx (qrci[1], qrci[2])\n",
    "qcci.ccx(qrci[1], qrci[2], qrci[3])\n",
    "\n",
    "CIB = qcci.to_instruction()\n",
    "\n",
    "qcsi.cx (qrs[1], qrs[2])\n",
    "qcsi.cx (qrs[0], qrs[2])\n",
    "SIB = qcsi.to_instruction()\n"
   ]
  },
  {
   "cell_type": "code",
   "execution_count": 3,
   "id": "87f26dc1-e9ac-4ce6-8acb-c4bca6162688",
   "metadata": {
    "tags": []
   },
   "outputs": [],
   "source": [
    "from qiskit import QuantumRegister, ClassicalRegister, QuantumCircuit\n",
    "\n",
    "def create_sub_circuit(n, a_values, b_values):\n",
    "\n",
    "    qra = QuantumRegister( (n * 3) + 1, 'q')\n",
    "    qca = QuantumCircuit(qra)\n",
    "\n",
    "    # Take user input for bits of A\n",
    "    \n",
    "    a_counter = 2\n",
    "    for bit in a_values[::-1]:\n",
    "        if bit == '1':\n",
    "            qca.x(qra[a_counter])\n",
    "        a_counter += 3\n",
    "\n",
    "    # Take user input for bits of B\n",
    "    \n",
    "    b_counter = 1\n",
    "    for bit in b_values[::-1]:\n",
    "        if bit == '1':\n",
    "            qca.x(qra[b_counter])\n",
    "        b_counter += 3\n",
    "\n",
    "    for i in range(n-1):\n",
    "        qca.append(SIB, [qra[(i * 3)], qra[(i * 3) + 1], qra[(i * 3) + 2]])\n",
    "        qca.append(CB, [qra[(i * 3)], qra[(i * 3) + 1], qra[(i * 3) + 2], qra[(i * 3) + 3]])\n",
    "    \n",
    "    qca.append(SIB, [qra[(n - 1) * 3], qra[((n - 1) * 3) + 1], qra[((n - 1) * 3) + 2]])\n",
    "    qca.cx(qra[(n*3) - 2], qra[(n*3) - 1])\n",
    "    \n",
    "    for i in range(n - 1, -1, -1):\n",
    "        qca.append(CIB, [qra[i * 3], qra[(i * 3) + 1], qra[(i * 3) + 2], qra[(i * 3) + 3]])\n",
    "        \n",
    "\n",
    "    # Define classical register for measurement\n",
    "    result = ClassicalRegister(n + 1, 'result')\n",
    "\n",
    "    # Add the classical register to the quantum circuit\n",
    "    qca.add_register(result)\n",
    "\n",
    "    # Measure the SUM output qubits\n",
    "    for i in range(n):\n",
    "        qca.measure(qra[( i * 3) + 2], result[i])\n",
    "    qca.measure(qra[(n * 3)], result[n])\n",
    "\n",
    "    return qca"
   ]
  },
  {
   "cell_type": "code",
   "execution_count": null,
   "id": "720d73de-7ef8-403f-9c3f-14d4baf711b4",
   "metadata": {},
   "outputs": [
    {
     "name": "stdin",
     "output_type": "stream",
     "text": [
      "Enter the number of bits:  4\n"
     ]
    }
   ],
   "source": [
    "n_bits = int(input(\"Enter the number of bits: \"))\n",
    "a_values = input(f\"Enter the {n_bits} bits for A: \")\n",
    "b_values = input(f\"Enter the {n_bits} bits for B: \")\n",
    "\n",
    "sub_circuit = create_sub_circuit(n_bits,a_values,b_values)\n",
    "sub_circuit.draw()"
   ]
  },
  {
   "cell_type": "code",
   "execution_count": null,
   "id": "ca701d94-d9a1-4821-9ef5-e281c4575203",
   "metadata": {
    "tags": []
   },
   "outputs": [],
   "source": [
    "simulator = Aer.get_backend('qasm_simulator')\n",
    "job = execute(sub_circuit, simulator, shots=1024)\n",
    "result = job.result()\n",
    "counts = result.get_counts(sub_circuit)\n",
    "plot_histogram(counts)"
   ]
  }
 ],
 "metadata": {
  "kernelspec": {
   "display_name": "Python 3 (ipykernel)",
   "language": "python",
   "name": "python3"
  },
  "language_info": {
   "codemirror_mode": {
    "name": "ipython",
    "version": 3
   },
   "file_extension": ".py",
   "mimetype": "text/x-python",
   "name": "python",
   "nbconvert_exporter": "python",
   "pygments_lexer": "ipython3",
   "version": "3.10.8"
  },
  "widgets": {
   "application/vnd.jupyter.widget-state+json": {
    "state": {
     "350ff6b83d80475188a66bc9a8c528f9": {
      "model_module": "@jupyter-widgets/base",
      "model_module_version": "2.0.0",
      "model_name": "LayoutModel",
      "state": {}
     },
     "4e220c7a0f5f47e8ac9ac023a9a73427": {
      "model_module": "@jupyter-widgets/base",
      "model_module_version": "2.0.0",
      "model_name": "LayoutModel",
      "state": {
       "width": "95px"
      }
     },
     "5bc3efccaa5a46cfbaafd77fca23ec4d": {
      "model_module": "@jupyter-widgets/base",
      "model_module_version": "2.0.0",
      "model_name": "LayoutModel",
      "state": {
       "grid_area": "right",
       "padding": "0px 0px 0px 0px",
       "width": "70px"
      }
     },
     "5e831fed263d44d687daa0a128f805b9": {
      "model_module": "@jupyter-widgets/base",
      "model_module_version": "2.0.0",
      "model_name": "LayoutModel",
      "state": {
       "grid_template_areas": "\n                                       \". . . . right \"\n                                        ",
       "grid_template_columns": "20% 20% 20% 20% 20%",
       "width": "100%"
      }
     },
     "65c28d8eadfb4b5d819dabd6fbca7b20": {
      "model_module": "@jupyter-widgets/controls",
      "model_module_version": "2.0.0",
      "model_name": "HTMLStyleModel",
      "state": {
       "description_width": "",
       "font_size": null,
       "text_color": null
      }
     },
     "6898071903d9450ea32efc58cad50994": {
      "model_module": "@jupyter-widgets/controls",
      "model_module_version": "2.0.0",
      "model_name": "HTMLStyleModel",
      "state": {
       "description_width": "",
       "font_size": null,
       "text_color": null
      }
     },
     "6a53b3a64ba949a5831d5a1a6328ad26": {
      "model_module": "@jupyter-widgets/controls",
      "model_module_version": "2.0.0",
      "model_name": "HTMLStyleModel",
      "state": {
       "description_width": "",
       "font_size": null,
       "text_color": null
      }
     },
     "75c2e399a5f44ead801070ebb14c06cd": {
      "model_module": "@jupyter-widgets/base",
      "model_module_version": "2.0.0",
      "model_name": "LayoutModel",
      "state": {
       "margin": "0px 0px 10px 0px"
      }
     },
     "91b416df16f7403fbb06fd97ccfc5472": {
      "model_module": "@jupyter-widgets/controls",
      "model_module_version": "2.0.0",
      "model_name": "HTMLModel",
      "state": {
       "layout": "IPY_MODEL_d009c28912504319808935232ac605a8",
       "style": "IPY_MODEL_cb526224a2484417aa0146b17bc4b8f5",
       "value": "<h5>Queue</h5>"
      }
     },
     "98cb7a5b4d9e46cbab30e42d631caed4": {
      "model_module": "@jupyter-widgets/controls",
      "model_module_version": "2.0.0",
      "model_name": "ButtonModel",
      "state": {
       "button_style": "primary",
       "description": "Clear",
       "layout": "IPY_MODEL_5bc3efccaa5a46cfbaafd77fca23ec4d",
       "style": "IPY_MODEL_bb67d2056c4b4d318316ad9f30042e81",
       "tooltip": null
      }
     },
     "9acccd3f49fb4ee0983b54e809fae5c1": {
      "model_module": "@jupyter-widgets/controls",
      "model_module_version": "2.0.0",
      "model_name": "HTMLModel",
      "state": {
       "layout": "IPY_MODEL_d45bd2a9462f411186c3e753857c59aa",
       "style": "IPY_MODEL_f30ee9cde6f345eeb735678ca3c9522b",
       "value": "<h5>Backend</h5>"
      }
     },
     "bb67d2056c4b4d318316ad9f30042e81": {
      "model_module": "@jupyter-widgets/controls",
      "model_module_version": "2.0.0",
      "model_name": "ButtonStyleModel",
      "state": {
       "font_family": null,
       "font_size": null,
       "font_style": null,
       "font_variant": null,
       "font_weight": null,
       "text_color": null,
       "text_decoration": null
      }
     },
     "bfaaf8e529384c5db715b61e3d76b090": {
      "model_module": "@jupyter-widgets/controls",
      "model_module_version": "2.0.0",
      "model_name": "HTMLModel",
      "state": {
       "layout": "IPY_MODEL_4e220c7a0f5f47e8ac9ac023a9a73427",
       "style": "IPY_MODEL_ce853791b3a647e194f8034b1dd20a7a",
       "value": "<h5>Status</h5>"
      }
     },
     "c1a53ad1e40a4d0ba37d40bf0bc9b35b": {
      "model_module": "@jupyter-widgets/base",
      "model_module_version": "2.0.0",
      "model_name": "LayoutModel",
      "state": {
       "width": "190px"
      }
     },
     "cb526224a2484417aa0146b17bc4b8f5": {
      "model_module": "@jupyter-widgets/controls",
      "model_module_version": "2.0.0",
      "model_name": "HTMLStyleModel",
      "state": {
       "description_width": "",
       "font_size": null,
       "text_color": null
      }
     },
     "ce853791b3a647e194f8034b1dd20a7a": {
      "model_module": "@jupyter-widgets/controls",
      "model_module_version": "2.0.0",
      "model_name": "HTMLStyleModel",
      "state": {
       "description_width": "",
       "font_size": null,
       "text_color": null
      }
     },
     "d009c28912504319808935232ac605a8": {
      "model_module": "@jupyter-widgets/base",
      "model_module_version": "2.0.0",
      "model_name": "LayoutModel",
      "state": {
       "width": "70px"
      }
     },
     "d45bd2a9462f411186c3e753857c59aa": {
      "model_module": "@jupyter-widgets/base",
      "model_module_version": "2.0.0",
      "model_name": "LayoutModel",
      "state": {
       "width": "145px"
      }
     },
     "d9c2bf4957974da18c1b23b5aa8fc7bf": {
      "model_module": "@jupyter-widgets/controls",
      "model_module_version": "2.0.0",
      "model_name": "HBoxModel",
      "state": {
       "children": [
        "IPY_MODEL_f1f764444be943738abb91c9f63e00e1",
        "IPY_MODEL_9acccd3f49fb4ee0983b54e809fae5c1",
        "IPY_MODEL_bfaaf8e529384c5db715b61e3d76b090",
        "IPY_MODEL_91b416df16f7403fbb06fd97ccfc5472",
        "IPY_MODEL_f3380912f6a342ac882a54efcb688022"
       ],
       "layout": "IPY_MODEL_e6cb8793beec4d4da68d2c8c7dd9b54e"
      }
     },
     "db6c9d2456674ba7b5d5b9730fda9c23": {
      "model_module": "@jupyter-widgets/controls",
      "model_module_version": "2.0.0",
      "model_name": "GridBoxModel",
      "state": {
       "children": [
        "IPY_MODEL_98cb7a5b4d9e46cbab30e42d631caed4"
       ],
       "layout": "IPY_MODEL_5e831fed263d44d687daa0a128f805b9"
      }
     },
     "e6cb8793beec4d4da68d2c8c7dd9b54e": {
      "model_module": "@jupyter-widgets/base",
      "model_module_version": "2.0.0",
      "model_name": "LayoutModel",
      "state": {
       "margin": "0px 0px 0px 37px",
       "width": "600px"
      }
     },
     "f1f764444be943738abb91c9f63e00e1": {
      "model_module": "@jupyter-widgets/controls",
      "model_module_version": "2.0.0",
      "model_name": "HTMLModel",
      "state": {
       "layout": "IPY_MODEL_c1a53ad1e40a4d0ba37d40bf0bc9b35b",
       "style": "IPY_MODEL_6898071903d9450ea32efc58cad50994",
       "value": "<h5>Job ID</h5>"
      }
     },
     "f30ee9cde6f345eeb735678ca3c9522b": {
      "model_module": "@jupyter-widgets/controls",
      "model_module_version": "2.0.0",
      "model_name": "HTMLStyleModel",
      "state": {
       "description_width": "",
       "font_size": null,
       "text_color": null
      }
     },
     "f3380912f6a342ac882a54efcb688022": {
      "model_module": "@jupyter-widgets/controls",
      "model_module_version": "2.0.0",
      "model_name": "HTMLModel",
      "state": {
       "layout": "IPY_MODEL_350ff6b83d80475188a66bc9a8c528f9",
       "style": "IPY_MODEL_6a53b3a64ba949a5831d5a1a6328ad26",
       "value": "<h5>Message</h5>"
      }
     },
     "f5f9bb4c4e214a97b8b87100acf49b27": {
      "model_module": "@jupyter-widgets/controls",
      "model_module_version": "2.0.0",
      "model_name": "HTMLModel",
      "state": {
       "layout": "IPY_MODEL_75c2e399a5f44ead801070ebb14c06cd",
       "style": "IPY_MODEL_65c28d8eadfb4b5d819dabd6fbca7b20",
       "value": "<p style='font-family: IBM Plex Sans, Arial, Helvetica, sans-serif; font-size: 20px; font-weight: medium;'>Circuit Properties</p>"
      }
     }
    },
    "version_major": 2,
    "version_minor": 0
   }
  }
 },
 "nbformat": 4,
 "nbformat_minor": 5
}
